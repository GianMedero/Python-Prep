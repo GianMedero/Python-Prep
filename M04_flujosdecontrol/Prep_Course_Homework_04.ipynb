{
 "cells": [
  {
   "attachments": {},
   "cell_type": "markdown",
   "metadata": {},
   "source": [
    "## Flujos de Control"
   ]
  },
  {
   "attachments": {},
   "cell_type": "markdown",
   "metadata": {},
   "source": [
    "1) Crear una variable que contenga un elemento del conjunto de números enteros y luego imprimir por pantalla si es mayor o menor a cero"
   ]
  },
  {
   "cell_type": "code",
   "execution_count": 8,
   "metadata": {},
   "outputs": [
    {
     "name": "stdout",
     "output_type": "stream",
     "text": [
      "menor a 0\n"
     ]
    }
   ],
   "source": [
    "x=-10\n",
    "if x>0:\n",
    "    print(\"mayor a 0\")\n",
    "elif x<0:\n",
    "    print(\"menor a 0\")\n",
    "else:\n",
    "    print(\"es igual a 0\")"
   ]
  },
  {
   "attachments": {},
   "cell_type": "markdown",
   "metadata": {},
   "source": [
    "2) Crear dos variables y un condicional que informe si son del mismo tipo de dato"
   ]
  },
  {
   "cell_type": "code",
   "execution_count": 12,
   "metadata": {},
   "outputs": [
    {
     "name": "stdout",
     "output_type": "stream",
     "text": [
      "La variable a es <class 'int'> la variable m es <class 'str'> , no son iguales\n"
     ]
    }
   ],
   "source": [
    "a=10\n",
    "m=\"45\"\n",
    "if (type(a)==type(m)):\n",
    "    print(\"La variable a es\",type(a),\"la variable m es\",type(m),\", son iguales\")\n",
    "else:\n",
    "    print(\"La variable a es\",type(a),\"la variable m es\", type(m),\", no son iguales\")"
   ]
  },
  {
   "attachments": {},
   "cell_type": "markdown",
   "metadata": {},
   "source": [
    "3) Para los valores enteros del 1 al 20, imprimir por pantalla si es par o impar"
   ]
  },
  {
   "cell_type": "code",
   "execution_count": 27,
   "metadata": {},
   "outputs": [
    {
     "name": "stdout",
     "output_type": "stream",
     "text": [
      "1 False\n",
      "2 True\n",
      "3 False\n",
      "4 True\n",
      "5 False\n",
      "6 True\n",
      "7 False\n",
      "8 True\n",
      "9 False\n",
      "10 True\n",
      "11 False\n",
      "12 True\n",
      "13 False\n",
      "14 True\n",
      "15 False\n",
      "16 True\n",
      "17 False\n",
      "18 True\n",
      "19 False\n",
      "20 True\n"
     ]
    }
   ],
   "source": [
    "for i in range(1,21):\n",
    "    num_pares=i%2==0\n",
    "    print(i,num_pares)\n"
   ]
  },
  {
   "cell_type": "code",
   "execution_count": 32,
   "metadata": {},
   "outputs": [
    {
     "name": "stdout",
     "output_type": "stream",
     "text": [
      "El 1 es impar\n",
      "El 2 par\n",
      "El 3 es impar\n",
      "El 4 par\n",
      "El 5 es impar\n",
      "El 6 par\n",
      "El 7 es impar\n",
      "El 8 par\n",
      "El 9 es impar\n",
      "El 10 par\n",
      "El 11 es impar\n",
      "El 12 par\n",
      "El 13 es impar\n",
      "El 14 par\n",
      "El 15 es impar\n",
      "El 16 par\n",
      "El 17 es impar\n",
      "El 18 par\n",
      "El 19 es impar\n",
      "El 20 par\n"
     ]
    }
   ],
   "source": [
    "for i in range(1,21):\n",
    "    if i%2==0:\n",
    "        print(\"El\",i,\"par\")\n",
    "    else:\n",
    "        print(\"El\",i,\"es impar\")"
   ]
  },
  {
   "attachments": {},
   "cell_type": "markdown",
   "metadata": {},
   "source": [
    "4) En un ciclo for mostrar para los valores entre 0 y 5 el resultado de elevarlo a la potencia igual a 3"
   ]
  },
  {
   "cell_type": "code",
   "execution_count": 37,
   "metadata": {},
   "outputs": [
    {
     "name": "stdout",
     "output_type": "stream",
     "text": [
      "0 elevado a la 3ra potencia es 0\n",
      "1 elevado a la 3ra potencia es 1\n",
      "2 elevado a la 3ra potencia es 8\n",
      "3 elevado a la 3ra potencia es 27\n",
      "4 elevado a la 3ra potencia es 64\n",
      "5 elevado a la 3ra potencia es 125\n"
     ]
    }
   ],
   "source": [
    "for i in range(0,6):\n",
    "    suma=i**3\n",
    "    print(i,\"elevado a la 3ra potencia es\",suma)\n"
   ]
  },
  {
   "attachments": {},
   "cell_type": "markdown",
   "metadata": {},
   "source": [
    "5) Crear una variable que contenga un número entero y realizar un ciclo for la misma cantidad de ciclos"
   ]
  },
  {
   "cell_type": "code",
   "execution_count": 38,
   "metadata": {},
   "outputs": [
    {
     "name": "stdout",
     "output_type": "stream",
     "text": [
      "14\n"
     ]
    }
   ],
   "source": [
    "u=15\n",
    "for i in range(0,u):\n",
    "    pass\n",
    "print(i)"
   ]
  },
  {
   "attachments": {},
   "cell_type": "markdown",
   "metadata": {},
   "source": [
    "6) Utilizar un ciclo while para realizar el factorial de un número guardado en una variable, sólo si la variable contiene un número entero mayor a 0"
   ]
  },
  {
   "cell_type": "code",
   "execution_count": 62,
   "metadata": {},
   "outputs": [
    {
     "name": "stdout",
     "output_type": "stream",
     "text": [
      "el factorial es 3628800\n"
     ]
    }
   ],
   "source": [
    "w=10\n",
    "if (type(w)==int):\n",
    "    if (w>0):\n",
    "        factor = w\n",
    "        while(w>=2):\n",
    "            w=w-1\n",
    "            factor = factor*w\n",
    "        print('el factorial es',factor)\n",
    "    else:\n",
    "        print('La variable no es mayor a cero')\n",
    "else:\n",
    "    print('La variable no es un entero')"
   ]
  },
  {
   "attachments": {},
   "cell_type": "markdown",
   "metadata": {},
   "source": [
    "7) Crear un ciclo for dentro de un ciclo while"
   ]
  },
  {
   "cell_type": "code",
   "execution_count": 72,
   "metadata": {},
   "outputs": [
    {
     "name": "stdout",
     "output_type": "stream",
     "text": [
      "ciclo while 1\n",
      "ciclo for 1\n",
      "ciclo while 2\n",
      "ciclo for 1\n",
      "ciclo for 2\n",
      "ciclo while 3\n",
      "ciclo for 1\n",
      "ciclo for 2\n",
      "ciclo for 3\n",
      "ciclo while 4\n",
      "ciclo for 1\n",
      "ciclo for 2\n",
      "ciclo for 3\n",
      "ciclo for 4\n"
     ]
    }
   ],
   "source": [
    "n=1\n",
    "while n<5:\n",
    "    print('ciclo while '+str(n))\n",
    "    for i in range(1,n+1):\n",
    "        print('ciclo for '+str(i))\n",
    "    n+=1"
   ]
  },
  {
   "attachments": {},
   "cell_type": "markdown",
   "metadata": {},
   "source": [
    "8) Crear un ciclo while dentro de un ciclo for"
   ]
  },
  {
   "cell_type": "code",
   "execution_count": 112,
   "metadata": {},
   "outputs": [
    {
     "name": "stdout",
     "output_type": "stream",
     "text": [
      "ciclo for 1\n",
      "ciclo while 5\n",
      "ciclo while 4\n",
      "ciclo while 3\n",
      "ciclo while 2\n",
      "ciclo while 1\n",
      "ciclo for 2\n",
      "ciclo while 5\n",
      "ciclo while 4\n",
      "ciclo while 3\n",
      "ciclo while 2\n",
      "ciclo while 1\n",
      "ciclo for 3\n",
      "ciclo while 5\n",
      "ciclo while 4\n",
      "ciclo while 3\n",
      "ciclo while 2\n",
      "ciclo while 1\n",
      "ciclo for 4\n",
      "ciclo while 5\n",
      "ciclo while 4\n",
      "ciclo while 3\n",
      "ciclo while 2\n",
      "ciclo while 1\n",
      "ciclo for 5\n",
      "ciclo while 5\n",
      "ciclo while 4\n",
      "ciclo while 3\n",
      "ciclo while 2\n",
      "ciclo while 1\n"
     ]
    }
   ],
   "source": [
    "n=5\n",
    "for i in range(1,n+1):\n",
    "    print ('ciclo for '+str(i))\n",
    "    m=n+1\n",
    "    while (m>1):\n",
    "        m-=1\n",
    "        print('ciclo while '+str(m)) "
   ]
  },
  {
   "attachments": {},
   "cell_type": "markdown",
   "metadata": {},
   "source": [
    "9) Imprimir los números primos existentes entre 0 y 30"
   ]
  },
  {
   "cell_type": "code",
   "execution_count": 116,
   "metadata": {},
   "outputs": [
    {
     "name": "stdout",
     "output_type": "stream",
     "text": [
      "0\n",
      "1\n",
      "2\n",
      "3\n",
      "5\n",
      "7\n",
      "11\n",
      "13\n",
      "17\n",
      "19\n",
      "23\n",
      "29\n"
     ]
    }
   ],
   "source": [
    "max=30\n",
    "n=0\n",
    "primo= True\n",
    "while n<max:\n",
    "    for div in range(2,n):\n",
    "        if n%div==0:\n",
    "            primo= False\n",
    "    if primo:\n",
    "        print(n)\n",
    "    else:\n",
    "        primo= True\n",
    "    n+=1\n"
   ]
  },
  {
   "attachments": {},
   "cell_type": "markdown",
   "metadata": {},
   "source": [
    "10) ¿Se puede mejorar el proceso del punto 9? Utilizar las sentencias break y/ó continue para tal fin"
   ]
  },
  {
   "cell_type": "code",
   "execution_count": 135,
   "metadata": {},
   "outputs": [
    {
     "name": "stdout",
     "output_type": "stream",
     "text": [
      "0\n",
      "1\n",
      "2\n",
      "3\n",
      "5\n",
      "7\n",
      "11\n",
      "13\n",
      "17\n",
      "19\n",
      "23\n",
      "29\n"
     ]
    }
   ],
   "source": [
    "max=30\n",
    "n=0\n",
    "primo= True\n",
    "while n<max:\n",
    "    for div in range(2,n):\n",
    "        if n%div==0:\n",
    "            primo= False\n",
    "            break\n",
    "    if (primo):\n",
    "        print(n)\n",
    "    else:\n",
    "        primo= True\n",
    "    n+=1"
   ]
  },
  {
   "attachments": {},
   "cell_type": "markdown",
   "metadata": {},
   "source": [
    "11) En los puntos 9 y 10, se diseño un código que encuentra números primos y además se lo optimizó. ¿Es posible saber en qué medida se optimizó?"
   ]
  },
  {
   "cell_type": "code",
   "execution_count": 138,
   "metadata": {},
   "outputs": [
    {
     "name": "stdout",
     "output_type": "stream",
     "text": [
      "0\n",
      "1\n",
      "2\n",
      "3\n",
      "5\n",
      "7\n",
      "11\n",
      "13\n",
      "17\n",
      "19\n",
      "23\n",
      "29\n",
      "ciclos:  378\n"
     ]
    }
   ],
   "source": [
    "ciclos_sin_break=0\n",
    "n=0\n",
    "primo= True\n",
    "while (n<max):\n",
    "    for div in range (2,n):\n",
    "        ciclos_sin_break +=1\n",
    "        if(n%div==0):\n",
    "            primo=False\n",
    "    if (primo):\n",
    "        print(n)\n",
    "    else:\n",
    "        primo=True\n",
    "    n+=1\n",
    "print('ciclos: ',ciclos_sin_break)"
   ]
  },
  {
   "cell_type": "code",
   "execution_count": 141,
   "metadata": {},
   "outputs": [
    {
     "name": "stdout",
     "output_type": "stream",
     "text": [
      "3\n",
      "5\n",
      "5\n",
      "7\n",
      "7\n",
      "7\n",
      "7\n",
      "11\n",
      "11\n",
      "11\n",
      "11\n",
      "11\n",
      "11\n",
      "11\n",
      "11\n",
      "13\n",
      "13\n",
      "13\n",
      "13\n",
      "13\n",
      "13\n",
      "13\n",
      "13\n",
      "13\n",
      "13\n",
      "17\n",
      "17\n",
      "17\n",
      "17\n",
      "17\n",
      "17\n",
      "17\n",
      "17\n",
      "17\n",
      "17\n",
      "17\n",
      "17\n",
      "17\n",
      "17\n",
      "19\n",
      "19\n",
      "19\n",
      "19\n",
      "19\n",
      "19\n",
      "19\n",
      "19\n",
      "19\n",
      "19\n",
      "19\n",
      "19\n",
      "19\n",
      "19\n",
      "19\n",
      "19\n",
      "23\n",
      "23\n",
      "23\n",
      "23\n",
      "23\n",
      "23\n",
      "23\n",
      "23\n",
      "23\n",
      "23\n",
      "23\n",
      "23\n",
      "23\n",
      "23\n",
      "23\n",
      "23\n",
      "23\n",
      "23\n",
      "23\n",
      "23\n",
      "25\n",
      "25\n",
      "29\n",
      "29\n",
      "29\n",
      "29\n",
      "29\n",
      "29\n",
      "29\n",
      "29\n",
      "29\n",
      "29\n",
      "29\n",
      "29\n",
      "29\n",
      "29\n",
      "29\n",
      "29\n",
      "29\n",
      "29\n",
      "29\n",
      "29\n",
      "29\n",
      "29\n",
      "29\n",
      "29\n",
      "29\n",
      "29\n",
      "ciclos:  134\n"
     ]
    }
   ],
   "source": [
    "n=0\n",
    "ciclos_con_break=0\n",
    "primo= True\n",
    "while (n<max):\n",
    "    for div in range (2,n):\n",
    "        ciclos_con_break+=1\n",
    "        if (n%div==0):\n",
    "            primo=False\n",
    "            break\n",
    "        if (primo):\n",
    "            print(n)\n",
    "        else:\n",
    "            primo=True\n",
    "    n+=1\n",
    "print('ciclos: ', ciclos_con_break)"
   ]
  },
  {
   "attachments": {},
   "cell_type": "markdown",
   "metadata": {},
   "source": [
    "12) Aplicando continue, armar un ciclo while que solo imprima los valores divisibles por 12, dentro del rango de números de 100 a 300"
   ]
  },
  {
   "cell_type": "code",
   "execution_count": 148,
   "metadata": {},
   "outputs": [
    {
     "name": "stdout",
     "output_type": "stream",
     "text": [
      "108 es divisible por 12\n",
      "120 es divisible por 12\n",
      "132 es divisible por 12\n",
      "144 es divisible por 12\n",
      "156 es divisible por 12\n",
      "168 es divisible por 12\n",
      "180 es divisible por 12\n",
      "192 es divisible por 12\n",
      "204 es divisible por 12\n",
      "216 es divisible por 12\n",
      "228 es divisible por 12\n",
      "240 es divisible por 12\n",
      "252 es divisible por 12\n",
      "264 es divisible por 12\n",
      "276 es divisible por 12\n",
      "288 es divisible por 12\n",
      "300 es divisible por 12\n"
     ]
    }
   ],
   "source": [
    "n=99\n",
    "while n<=300:\n",
    "    n+=1\n",
    "    if n%12!=0:\n",
    "        continue    \n",
    "    print(n,\"es divisible por 12\")\n"
   ]
  },
  {
   "attachments": {},
   "cell_type": "markdown",
   "metadata": {},
   "source": [
    "13) Utilizar la función **input()** que permite hacer ingresos por teclado, para encontrar números primos y dar la opción al usario de buscar el siguiente"
   ]
  },
  {
   "cell_type": "code",
   "execution_count": 171,
   "metadata": {},
   "outputs": [
    {
     "name": "stdout",
     "output_type": "stream",
     "text": [
      "1\n",
      "queres ver el siguiente nro primo?\n"
     ]
    },
    {
     "name": "stdout",
     "output_type": "stream",
     "text": [
      "2\n",
      "queres ver el siguiente nro primo?\n",
      "3\n",
      "queres ver el siguiente nro primo?\n",
      "5\n",
      "queres ver el siguiente nro primo?\n",
      "7\n",
      "queres ver el siguiente nro primo?\n",
      "11\n",
      "queres ver el siguiente nro primo?\n",
      "13\n",
      "queres ver el siguiente nro primo?\n",
      "17\n",
      "queres ver el siguiente nro primo?\n",
      "19\n",
      "queres ver el siguiente nro primo?\n",
      "23\n",
      "queres ver el siguiente nro primo?\n",
      "29\n",
      "queres ver el siguiente nro primo?\n",
      "se termina el proceso\n"
     ]
    }
   ],
   "source": [
    "n=1\n",
    "proximo=1\n",
    "primo=True\n",
    "while proximo==1:\n",
    "    for div in range(2,n):\n",
    "        if n%div==0:\n",
    "            primo=False\n",
    "            break\n",
    "    if (primo):\n",
    "        print(n)\n",
    "        print('queres ver el siguiente nro primo?')\n",
    "        if (input() != 'yes'):\n",
    "            print('se termina el proceso')\n",
    "            break\n",
    "    else:\n",
    "        primo=True\n",
    "    n+=1\n"
   ]
  },
  {
   "attachments": {},
   "cell_type": "markdown",
   "metadata": {},
   "source": [
    "14) Crear un ciclo while que encuentre dentro del rango de 100 a 300 el primer número divisible por 3 y además múltiplo de 6"
   ]
  },
  {
   "cell_type": "code",
   "execution_count": 172,
   "metadata": {},
   "outputs": [
    {
     "name": "stdout",
     "output_type": "stream",
     "text": [
      "el nro es 102\n"
     ]
    }
   ],
   "source": [
    "w=100\n",
    "while w<300:\n",
    "    if(w%6==0):\n",
    "        print('el nro es '+str(w))\n",
    "        break\n",
    "    w +=1\n"
   ]
  }
 ],
 "metadata": {
  "interpreter": {
   "hash": "c85384e4cb51c8b72350f3a8712cc8351fdc3955e32a27f9b60c6242ab125f01"
  },
  "kernelspec": {
   "display_name": "Python 3 (ipykernel)",
   "language": "python",
   "name": "python3"
  },
  "language_info": {
   "codemirror_mode": {
    "name": "ipython",
    "version": 3
   },
   "file_extension": ".py",
   "mimetype": "text/x-python",
   "name": "python",
   "nbconvert_exporter": "python",
   "pygments_lexer": "ipython3",
   "version": "3.11.4"
  }
 },
 "nbformat": 4,
 "nbformat_minor": 4
}
